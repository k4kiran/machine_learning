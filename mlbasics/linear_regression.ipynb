{
 "cells": [
  {
   "cell_type": "code",
   "execution_count": 1,
   "metadata": {},
   "outputs": [],
   "source": [
    "import tensorflow as tf"
   ]
  },
  {
   "cell_type": "code",
   "execution_count": 2,
   "metadata": {},
   "outputs": [],
   "source": [
    "import numpy as np\n"
   ]
  },
  {
   "cell_type": "code",
   "execution_count": 3,
   "metadata": {},
   "outputs": [],
   "source": [
    "import matplotlib.pyplot as plt"
   ]
  },
  {
   "cell_type": "code",
   "execution_count": 4,
   "metadata": {},
   "outputs": [],
   "source": [
    "features = 10\n",
    "neurons = 3"
   ]
  },
  {
   "cell_type": "code",
   "execution_count": 5,
   "metadata": {},
   "outputs": [],
   "source": [
    "x = tf.placeholder(tf.float32,(None,features))"
   ]
  },
  {
   "cell_type": "code",
   "execution_count": 6,
   "metadata": {},
   "outputs": [],
   "source": [
    "theta = tf.Variable(tf.random_normal([features,neurons]))"
   ]
  },
  {
   "cell_type": "code",
   "execution_count": 7,
   "metadata": {},
   "outputs": [],
   "source": [
    "sess = tf.InteractiveSession()"
   ]
  },
  {
   "cell_type": "code",
   "execution_count": 8,
   "metadata": {},
   "outputs": [],
   "source": [
    "bias = tf.Variable(tf.ones([neurons]))\n"
   ]
  },
  {
   "cell_type": "code",
   "execution_count": 9,
   "metadata": {},
   "outputs": [],
   "source": [
    "z_temp = tf.matmul(x,theta)"
   ]
  },
  {
   "cell_type": "code",
   "execution_count": 10,
   "metadata": {},
   "outputs": [],
   "source": [
    "z = tf.add(z_temp,bias)"
   ]
  },
  {
   "cell_type": "code",
   "execution_count": 11,
   "metadata": {},
   "outputs": [],
   "source": [
    "act_fn = tf.sigmoid(z)"
   ]
  },
  {
   "cell_type": "code",
   "execution_count": 12,
   "metadata": {},
   "outputs": [],
   "source": [
    "init = tf.global_variables_initializer()\n",
    "with tf.Session() as sess:\n",
    "  sess.run(init)\n",
    "  result = sess.run(act_fn,feed_dict={x:np.random.random([1,features])})"
   ]
  },
  {
   "cell_type": "code",
   "execution_count": 13,
   "metadata": {},
   "outputs": [
    {
     "name": "stdout",
     "output_type": "stream",
     "text": [
      "[[0.91413826 0.2620608  0.94319963]]\n"
     ]
    }
   ],
   "source": [
    "print(result)"
   ]
  },
  {
   "cell_type": "code",
   "execution_count": 14,
   "metadata": {},
   "outputs": [
    {
     "data": {
      "text/plain": [
       "array([ 1.13735667,  1.58113244,  0.34129539,  1.25986816,  1.86008917,\n",
       "        2.65470745,  2.15177963,  4.52050573,  5.10651248,  4.72462652,\n",
       "        4.86001273,  6.88020583,  5.25417768,  7.54457976,  7.35316947,\n",
       "        8.11133025,  7.64751272,  7.56764727, 10.50317649, 10.33208555])"
      ]
     },
     "execution_count": 14,
     "metadata": {},
     "output_type": "execute_result"
    }
   ],
   "source": [
    "x_train = np.linspace(0,10,20) + np.random.uniform(-1.5,1.5,20)\n",
    "x_train"
   ]
  },
  {
   "cell_type": "code",
   "execution_count": 15,
   "metadata": {},
   "outputs": [
    {
     "data": {
      "text/plain": [
       "array([ 0.16862218,  1.23605355,  2.10207295,  0.27534614,  2.69627275,\n",
       "        3.8695628 ,  3.28729039,  4.39292722,  5.16332723,  5.46071331,\n",
       "        5.70074146,  6.60874966,  7.08417354,  7.85480716,  6.75611311,\n",
       "        8.60433091,  8.19298626,  8.11085171, 10.79015737,  9.94869732])"
      ]
     },
     "execution_count": 15,
     "metadata": {},
     "output_type": "execute_result"
    }
   ],
   "source": [
    "y_train = np.linspace(0,10,20) + np.random.uniform(-1.5,1.5,20)\n",
    "init = tf.global_variables_initializer()\n",
    "with tf.Session() as sess:\n",
    "  sess.run(init)\n",
    "y_train"
   ]
  },
  {
   "cell_type": "code",
   "execution_count": 16,
   "metadata": {},
   "outputs": [
    {
     "data": {
      "text/plain": [
       "[<matplotlib.lines.Line2D at 0x7f551406c750>]"
      ]
     },
     "execution_count": 16,
     "metadata": {},
     "output_type": "execute_result"
    },
    {
     "data": {
      "image/png": "[encoded data removed]",
      "text/plain": [
       "<Figure size 432x288 with 1 Axes>"
      ]
     },
     "metadata": {
      "needs_background": "light"
     },
     "output_type": "display_data"
    }
   ],
   "source": [
    "plt.plot(x_train,y_train,'+')"
   ]
  },
  {
   "cell_type": "code",
   "execution_count": 17,
   "metadata": {},
   "outputs": [],
   "source": [
    "theta = tf.Variable(.44)\n",
    "b = tf.Variable(.87)"
   ]
  },
  {
   "cell_type": "code",
   "execution_count": 18,
   "metadata": {},
   "outputs": [
    {
     "name": "stdout",
     "output_type": "stream",
     "text": [
      "Tensor(\"mul:0\", shape=(), dtype=float32)\n",
      "Tensor(\"add_1:0\", shape=(), dtype=float32)\n",
      "Tensor(\"mul_1:0\", shape=(), dtype=float32)\n",
      "Tensor(\"add_2:0\", shape=(), dtype=float32)\n",
      "Tensor(\"mul_2:0\", shape=(), dtype=float32)\n",
      "Tensor(\"add_3:0\", shape=(), dtype=float32)\n",
      "Tensor(\"mul_3:0\", shape=(), dtype=float32)\n",
      "Tensor(\"add_4:0\", shape=(), dtype=float32)\n",
      "Tensor(\"mul_4:0\", shape=(), dtype=float32)\n",
      "Tensor(\"add_5:0\", shape=(), dtype=float32)\n",
      "Tensor(\"mul_5:0\", shape=(), dtype=float32)\n",
      "Tensor(\"add_6:0\", shape=(), dtype=float32)\n",
      "Tensor(\"mul_6:0\", shape=(), dtype=float32)\n",
      "Tensor(\"add_7:0\", shape=(), dtype=float32)\n",
      "Tensor(\"mul_7:0\", shape=(), dtype=float32)\n",
      "Tensor(\"add_8:0\", shape=(), dtype=float32)\n",
      "Tensor(\"mul_8:0\", shape=(), dtype=float32)\n",
      "Tensor(\"add_9:0\", shape=(), dtype=float32)\n",
      "Tensor(\"mul_9:0\", shape=(), dtype=float32)\n",
      "Tensor(\"add_10:0\", shape=(), dtype=float32)\n",
      "Tensor(\"mul_10:0\", shape=(), dtype=float32)\n",
      "Tensor(\"add_11:0\", shape=(), dtype=float32)\n",
      "Tensor(\"mul_11:0\", shape=(), dtype=float32)\n",
      "Tensor(\"add_12:0\", shape=(), dtype=float32)\n",
      "Tensor(\"mul_12:0\", shape=(), dtype=float32)\n",
      "Tensor(\"add_13:0\", shape=(), dtype=float32)\n",
      "Tensor(\"mul_13:0\", shape=(), dtype=float32)\n",
      "Tensor(\"add_14:0\", shape=(), dtype=float32)\n",
      "Tensor(\"mul_14:0\", shape=(), dtype=float32)\n",
      "Tensor(\"add_15:0\", shape=(), dtype=float32)\n",
      "Tensor(\"mul_15:0\", shape=(), dtype=float32)\n",
      "Tensor(\"add_16:0\", shape=(), dtype=float32)\n",
      "Tensor(\"mul_16:0\", shape=(), dtype=float32)\n",
      "Tensor(\"add_17:0\", shape=(), dtype=float32)\n",
      "Tensor(\"mul_17:0\", shape=(), dtype=float32)\n",
      "Tensor(\"add_18:0\", shape=(), dtype=float32)\n",
      "Tensor(\"mul_18:0\", shape=(), dtype=float32)\n",
      "Tensor(\"add_19:0\", shape=(), dtype=float32)\n",
      "Tensor(\"mul_19:0\", shape=(), dtype=float32)\n",
      "Tensor(\"add_20:0\", shape=(), dtype=float32)\n"
     ]
    }
   ],
   "source": [
    "error = 0\n",
    "for x,y in zip(x_train,y_train):\n",
    "  z = theta*x\n",
    "  print(z)\n",
    "  error = error + ((y-z)**2)\n",
    "  print(error)\n"
   ]
  },
  {
   "cell_type": "code",
   "execution_count": 19,
   "metadata": {},
   "outputs": [
    {
     "name": "stdout",
     "output_type": "stream",
     "text": [
      "WARNING:tensorflow:From /home/kiranbal/anaconda3/envs/mlvenv/lib/python3.7/site-packages/tensorflow_core/python/ops/math_grad.py:1375: where (from tensorflow.python.ops.array_ops) is deprecated and will be removed in a future version.\n",
      "Instructions for updating:\n",
      "Use tf.where in 2.0, which has the same broadcast rule as np.where\n"
     ]
    }
   ],
   "source": [
    "optimizer = tf.train.GradientDescentOptimizer(learning_rate=.001)\n",
    "train = optimizer.minimize(error)"
   ]
  },
  {
   "cell_type": "code",
   "execution_count": 24,
   "metadata": {},
   "outputs": [
    {
     "name": "stdout",
     "output_type": "stream",
     "text": [
      "1.0418655\n",
      "0.87\n"
     ]
    }
   ],
   "source": [
    "init = tf.global_variables_initializer()\n",
    "with tf.Session() as sess:\n",
    "  sess.run(init)\n",
    "  epochs = 10\n",
    "\n",
    "  for h in range(epochs):\n",
    "    sess.run(train)\n",
    "  weight,bias = sess.run([theta,b])\n",
    "  print(weight)\n",
    "  print(bias)"
   ]
  },
  {
   "cell_type": "code",
   "execution_count": 25,
   "metadata": {},
   "outputs": [
    {
     "name": "stdout",
     "output_type": "stream",
     "text": [
      "[-0.17186546  0.48615483  1.14417513  1.80219542  2.46021572  3.11823601\n",
      "  3.77625631  4.43427661  5.0922969   5.7503172   6.40833749  7.06635779\n",
      "  7.72437808  8.38239838  9.04041868  9.69843897 10.35645927 11.01447956\n",
      " 11.67249986 12.33052015]\n"
     ]
    }
   ],
   "source": [
    "x_test = np.linspace(-1,11,20)\n",
    "\n",
    "prediction = (weight * x_test + bias)\n",
    "print(prediction)"
   ]
  },
  {
   "cell_type": "code",
   "execution_count": 26,
   "metadata": {},
   "outputs": [
    {
     "data": {
      "text/plain": [
       "[<matplotlib.lines.Line2D at 0x7f54ba378910>]"
      ]
     },
     "execution_count": 26,
     "metadata": {},
     "output_type": "execute_result"
    },
    {
     "data": {
      "image/png": "[encoded data removed]",
      "text/plain": [
       "<Figure size 432x288 with 1 Axes>"
      ]
     },
     "metadata": {
      "needs_background": "light"
     },
     "output_type": "display_data"
    }
   ],
   "source": [
    "plt.plot(prediction,x_test,'r')\n",
    "plt.plot(x_train,y_train,'+')"
   ]
  },
  {
   "cell_type": "code",
   "execution_count": null,
   "metadata": {},
   "outputs": [],
   "source": []
  }
 ],
 "metadata": {
  "kernelspec": {
   "display_name": "mlvenv",
   "language": "python",
   "name": "mlvenv"
  },
  "language_info": {
   "codemirror_mode": {
    "name": "ipython",
    "version": 3
   },
   "file_extension": ".py",
   "mimetype": "text/x-python",
   "name": "python",
   "nbconvert_exporter": "python",
   "pygments_lexer": "ipython3",
   "version": "3.7.5"
  }
 },
 "nbformat": 4,
 "nbformat_minor": 2
}
