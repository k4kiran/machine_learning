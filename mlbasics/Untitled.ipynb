{
 "cells": [
  {
   "cell_type": "code",
   "execution_count": 1,
   "metadata": {},
   "outputs": [
    {
     "ename": "ModuleNotFoundError",
     "evalue": "No module named 'tensorflow'",
     "output_type": "error",
     "traceback": [
      "\u001b[0;31m---------------------------------------------------------------------------\u001b[0m",
      "\u001b[0;31mModuleNotFoundError\u001b[0m                       Traceback (most recent call last)",
      "\u001b[0;32m<ipython-input-1-64156d691fe5>\u001b[0m in \u001b[0;36m<module>\u001b[0;34m\u001b[0m\n\u001b[0;32m----> 1\u001b[0;31m \u001b[0;32mimport\u001b[0m \u001b[0mtensorflow\u001b[0m \u001b[0;32mas\u001b[0m \u001b[0mtf\u001b[0m\u001b[0;34m\u001b[0m\u001b[0;34m\u001b[0m\u001b[0m\n\u001b[0m",
      "\u001b[0;31mModuleNotFoundError\u001b[0m: No module named 'tensorflow'"
     ]
    }
   ],
   "source": [
    "import tensorflow as tf"
   ]
  },
  {
   "cell_type": "code",
   "execution_count": 3,
   "metadata": {},
   "outputs": [
    {
     "name": "stdout",
     "output_type": "stream",
     "text": [
      "2.0.0\n"
     ]
    }
   ],
   "source": [
    "print(tf.__version__)"
   ]
  },
  {
   "cell_type": "code",
   "execution_count": 4,
   "metadata": {},
   "outputs": [
    {
     "name": "stdout",
     "output_type": "stream",
     "text": [
      "Collecting tensorflow==1.15.0\n",
      "\u001b[?25l  Downloading https://files.pythonhosted.org/packages/92/2b/e3af15221da9ff323521565fa3324b0d7c7c5b1d7a8ca66984c8d59cb0ce/tensorflow-1.15.0-cp37-cp37m-manylinux2010_x86_64.whl (412.3MB)\n",
      "\u001b[K     |████████████████████████████████| 412.3MB 20kB/s  eta 0:00:018    |█████████▌                      | 123.0MB 129kB/s eta 0:37:20     |██████████                      | 127.8MB 129kB/s eta 0:36:40��███████████████▎  | 377.1MB 45kB/s eta 0:12:59ta 0:03:04\n",
      "\u001b[?25hRequirement already satisfied: numpy<2.0,>=1.16.0 in /home/kiranbal/anaconda3/envs/mlvenv/lib/python3.7/site-packages (from tensorflow==1.15.0) (1.17.4)\n",
      "Collecting tensorboard<1.16.0,>=1.15.0\n",
      "\u001b[?25l  Downloading https://files.pythonhosted.org/packages/1e/e9/d3d747a97f7188f48aa5eda486907f3b345cd409f0a0850468ba867db246/tensorboard-1.15.0-py3-none-any.whl (3.8MB)\n",
      "\u001b[K     |████████████████████████████████| 3.8MB 42kB/s eta 0:00:013\n",
      "\u001b[?25hRequirement already satisfied: google-pasta>=0.1.6 in /home/kiranbal/anaconda3/envs/mlvenv/lib/python3.7/site-packages (from tensorflow==1.15.0) (0.1.8)\n",
      "Requirement already satisfied: gast==0.2.2 in /home/kiranbal/anaconda3/envs/mlvenv/lib/python3.7/site-packages (from tensorflow==1.15.0) (0.2.2)\n",
      "Requirement already satisfied: wheel>=0.26 in /home/kiranbal/anaconda3/envs/mlvenv/lib/python3.7/site-packages (from tensorflow==1.15.0) (0.33.6)\n",
      "Requirement already satisfied: protobuf>=3.6.1 in /home/kiranbal/anaconda3/envs/mlvenv/lib/python3.7/site-packages (from tensorflow==1.15.0) (3.11.0)\n",
      "Requirement already satisfied: wrapt>=1.11.1 in /home/kiranbal/anaconda3/envs/mlvenv/lib/python3.7/site-packages (from tensorflow==1.15.0) (1.11.2)\n",
      "Requirement already satisfied: absl-py>=0.7.0 in /home/kiranbal/anaconda3/envs/mlvenv/lib/python3.7/site-packages (from tensorflow==1.15.0) (0.8.1)\n",
      "Requirement already satisfied: astor>=0.6.0 in /home/kiranbal/anaconda3/envs/mlvenv/lib/python3.7/site-packages (from tensorflow==1.15.0) (0.8.0)\n",
      "Requirement already satisfied: keras-applications>=1.0.8 in /home/kiranbal/anaconda3/envs/mlvenv/lib/python3.7/site-packages (from tensorflow==1.15.0) (1.0.8)\n",
      "Requirement already satisfied: grpcio>=1.8.6 in /home/kiranbal/anaconda3/envs/mlvenv/lib/python3.7/site-packages (from tensorflow==1.15.0) (1.25.0)\n",
      "Requirement already satisfied: six>=1.10.0 in /home/kiranbal/anaconda3/envs/mlvenv/lib/python3.7/site-packages (from tensorflow==1.15.0) (1.13.0)\n",
      "Requirement already satisfied: opt-einsum>=2.3.2 in /home/kiranbal/anaconda3/envs/mlvenv/lib/python3.7/site-packages (from tensorflow==1.15.0) (3.1.0)\n",
      "Requirement already satisfied: keras-preprocessing>=1.0.5 in /home/kiranbal/anaconda3/envs/mlvenv/lib/python3.7/site-packages (from tensorflow==1.15.0) (1.1.0)\n",
      "Collecting tensorflow-estimator==1.15.1\n",
      "\u001b[?25l  Downloading https://files.pythonhosted.org/packages/de/62/2ee9cd74c9fa2fa450877847ba560b260f5d0fb70ee0595203082dafcc9d/tensorflow_estimator-1.15.1-py2.py3-none-any.whl (503kB)\n",
      "\u001b[K     |████████████████████████████████| 512kB 112kB/s eta 0:00:01\n",
      "\u001b[?25hRequirement already satisfied: termcolor>=1.1.0 in /home/kiranbal/anaconda3/envs/mlvenv/lib/python3.7/site-packages (from tensorflow==1.15.0) (1.1.0)\n",
      "Requirement already satisfied: markdown>=2.6.8 in /home/kiranbal/anaconda3/envs/mlvenv/lib/python3.7/site-packages (from tensorboard<1.16.0,>=1.15.0->tensorflow==1.15.0) (3.1.1)\n",
      "Requirement already satisfied: setuptools>=41.0.0 in /home/kiranbal/anaconda3/envs/mlvenv/lib/python3.7/site-packages (from tensorboard<1.16.0,>=1.15.0->tensorflow==1.15.0) (41.6.0.post20191030)\n",
      "Requirement already satisfied: werkzeug>=0.11.15 in /home/kiranbal/anaconda3/envs/mlvenv/lib/python3.7/site-packages (from tensorboard<1.16.0,>=1.15.0->tensorflow==1.15.0) (0.16.0)\n",
      "Requirement already satisfied: h5py in /home/kiranbal/anaconda3/envs/mlvenv/lib/python3.7/site-packages (from keras-applications>=1.0.8->tensorflow==1.15.0) (2.10.0)\n",
      "Installing collected packages: tensorboard, tensorflow-estimator, tensorflow\n",
      "  Found existing installation: tensorboard 2.0.2\n",
      "    Uninstalling tensorboard-2.0.2:\n",
      "      Successfully uninstalled tensorboard-2.0.2\n",
      "  Found existing installation: tensorflow-estimator 2.0.1\n",
      "    Uninstalling tensorflow-estimator-2.0.1:\n",
      "      Successfully uninstalled tensorflow-estimator-2.0.1\n",
      "Successfully installed tensorboard-1.15.0 tensorflow-1.15.0 tensorflow-estimator-1.15.1\n",
      "Note: you may need to restart the kernel to use updated packages.\n"
     ]
    }
   ],
   "source": [
    "pip install tensorflow==1.15.0"
   ]
  },
  {
   "cell_type": "code",
   "execution_count": null,
   "metadata": {},
   "outputs": [],
   "source": [
    "y"
   ]
  },
  {
   "cell_type": "code",
   "execution_count": null,
   "metadata": {},
   "outputs": [],
   "source": []
  }
 ],
 "metadata": {
  "kernelspec": {
   "display_name": "mlvenv",
   "language": "python",
   "name": "mlvenv"
  },
  "language_info": {
   "codemirror_mode": {
    "name": "ipython",
    "version": 3
   },
   "file_extension": ".py",
   "mimetype": "text/x-python",
   "name": "python",
   "nbconvert_exporter": "python",
   "pygments_lexer": "ipython3",
   "version": "3.7.5"
  }
 },
 "nbformat": 4,
 "nbformat_minor": 2
}
